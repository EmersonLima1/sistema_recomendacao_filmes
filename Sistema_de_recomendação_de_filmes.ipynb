{
  "nbformat": 4,
  "nbformat_minor": 0,
  "metadata": {
    "colab": {
      "provenance": []
    },
    "kernelspec": {
      "name": "python3",
      "display_name": "Python 3"
    },
    "language_info": {
      "name": "python"
    }
  },
  "cells": [
    {
      "cell_type": "code",
      "source": [
        "import pandas as pd  # Biblioteca usada para manipulação e análise de dados tabulares, como DataFrame.\n",
        "from sklearn.feature_extraction.text import TfidfVectorizer  # Para criar uma matriz TF-IDF a partir do texto.\n",
        "from sklearn.metrics.pairwise import cosine_similarity  # Utilizado para calcular a similaridade de cosseno entre vetores.\n",
        "from rich.console import Console  # Para exibir mensagens formatadas no console de forma mais estilizada.\n",
        "from rich.table import Table  # Ajuda a criar tabelas bem formatadas no console.\n",
        "\n",
        "# Carregar o arquivo CSV\n",
        "df = pd.read_csv(\"/content/TMDB_movie_dataset_v11.csv\")\n",
        "\n",
        "# Pré-processamento dos dados\n",
        "# Selecionar colunas relevantes e remover linhas com valores ausentes em 'overview'\n",
        "df = df[['title', 'overview', 'genres', 'keywords']].copy()\n",
        "df['genres'].fillna('', inplace=True)\n",
        "df['keywords'].fillna('', inplace=True)\n",
        "\n",
        "# Combinar 'overview', 'genres' e 'keywords' em uma única coluna\n",
        "df['combined_features'] = df['overview'] + ' ' + df['genres'] + ' ' + df['keywords']\n",
        "\n",
        "# Substituir NaN na coluna combinada por uma string vazia\n",
        "df['combined_features'].fillna('', inplace=True)\n",
        "\n",
        "# Criar uma matriz TF-IDF para a coluna combinada\n",
        "tfidf = TfidfVectorizer(stop_words='english')  # Stop words são palavras comuns que geralmente não contribuem para o significado de uma frase.\n",
        "tfidf_matrix = tfidf.fit_transform(df['combined_features'])\n",
        "\n",
        "# Função para obter recomendações com base na similaridade de cosseno\n",
        "def obter_recomendacoes(title, tfidf_matrix=tfidf_matrix, df=df):\n",
        "\n",
        "    \"\"\"\n",
        "    Função para obter recomendações com base na similaridade de cosseno.\n",
        "\n",
        "    Parâmetros:\n",
        "        title (str): O título do filme para o qual deseja-se obter recomendações.\n",
        "        tfidf_matrix (sparse matrix, optional): A matriz TF-IDF dos filmes. Padrão é a matriz criada anteriormente.\n",
        "        df (DataFrame, optional): O DataFrame contendo os dados dos filmes. Padrão é o DataFrame carregado anteriormente.\n",
        "\n",
        "    Returna:\n",
        "        DataFrame: Um DataFrame contendo os filmes recomendados com base na similaridade de cosseno com o filme fornecido.\n",
        "    \"\"\"\n",
        "\n",
        "    # Encontrar o índice do filme com o título correspondente\n",
        "    idx = df.index[df['title'] == title].tolist()[0]\n",
        "\n",
        "    # Calcular a similaridade de cosseno entre o filme selecionado e todos os outros filmes\n",
        "    cosine_similarities = cosine_similarity(tfidf_matrix[idx], tfidf_matrix).flatten()\n",
        "\n",
        "    # Obter os índices dos filmes mais similares\n",
        "    similar_movies_indices = cosine_similarities.argsort()[::-1][1:11]\n",
        "\n",
        "    # Retornar os filmes recomendados\n",
        "    return df.iloc[similar_movies_indices].copy()\n"
      ],
      "metadata": {
        "id": "YKewD8J1DdKK"
      },
      "execution_count": 3,
      "outputs": []
    },
    {
      "cell_type": "code",
      "source": [
        "def escolher_filme(filme_escolhido):\n",
        "\n",
        "    \"\"\"\n",
        "    Função para recomendar filmes com base no filme escolhido.\n",
        "\n",
        "    Parâmetro:\n",
        "        filme_escolhido (str): O título do filme escolhido.\n",
        "\n",
        "    Returna:\n",
        "        None\n",
        "    \"\"\"\n",
        "\n",
        "    # Obter recomendações de filmes com base no filme escolhido\n",
        "    recommendations = obter_recomendacoes(filme_escolhido)\n",
        "\n",
        "    # Exibir os filmes recomendados em uma tabela formatada\n",
        "    console = Console()\n",
        "\n",
        "    table = Table(title=f'Filmes recomendados com base no filme \"{filme_escolhido}\"')\n",
        "    table.add_column(\"Título\", style=\"cyan\")  # Adicionar coluna para os títulos dos filmes, com estilo ciano.\n",
        "    table.add_column(\"Gêneros\", style=\"green\")  # Adicionar coluna para os gêneros dos filmes, com estilo verde.\n",
        "\n",
        "    # Iterar sobre cada filme recomendado e adicionar à tabela\n",
        "    for index, row in recommendations.iterrows():\n",
        "        table.add_row(row['title'], row['genres'])\n",
        "\n",
        "    # Imprimir a tabela no console\n",
        "    console.print(table)"
      ],
      "metadata": {
        "id": "O5rr-z-va2im"
      },
      "execution_count": 4,
      "outputs": []
    },
    {
      "cell_type": "code",
      "source": [
        "# obter recomendações para um filme específico\n",
        "filme_escolhido = 'Edge of Tomorrow'\n",
        "escolher_filme(filme_escolhido)"
      ],
      "metadata": {
        "colab": {
          "base_uri": "https://localhost:8080/",
          "height": 272
        },
        "id": "jSwWvcI9bFE1",
        "outputId": "65b6f2ac-880a-441f-a850-eba8e4faa938"
      },
      "execution_count": 5,
      "outputs": [
        {
          "output_type": "display_data",
          "data": {
            "text/plain": [
              "\u001b[3m         Filmes recomendados com base no filme \"Edge of Tomorrow\"         \u001b[0m\n",
              "┏━━━━━━━━━━━━━━━━━━━━━━━━━━━━━━━━━━━┳━━━━━━━━━━━━━━━━━━━━━━━━━━━━━━━━━━━━┓\n",
              "┃\u001b[1m \u001b[0m\u001b[1mTítulo                           \u001b[0m\u001b[1m \u001b[0m┃\u001b[1m \u001b[0m\u001b[1mGêneros                           \u001b[0m\u001b[1m \u001b[0m┃\n",
              "┡━━━━━━━━━━━━━━━━━━━━━━━━━━━━━━━━━━━╇━━━━━━━━━━━━━━━━━━━━━━━━━━━━━━━━━━━━┩\n",
              "│\u001b[36m \u001b[0m\u001b[36mAliens Night                     \u001b[0m\u001b[36m \u001b[0m│\u001b[32m \u001b[0m\u001b[32mHorror, Science Fiction           \u001b[0m\u001b[32m \u001b[0m│\n",
              "│\u001b[36m \u001b[0m\u001b[36mRakka                            \u001b[0m\u001b[36m \u001b[0m│\u001b[32m \u001b[0m\u001b[32mAction, Science Fiction, Horror   \u001b[0m\u001b[32m \u001b[0m│\n",
              "│\u001b[36m \u001b[0m\u001b[36mAlien Invasion 2                 \u001b[0m\u001b[36m \u001b[0m│\u001b[32m \u001b[0m\u001b[32mComedy                            \u001b[0m\u001b[32m \u001b[0m│\n",
              "│\u001b[36m \u001b[0m\u001b[36mH.G. Wells' The War of the Worlds\u001b[0m\u001b[36m \u001b[0m│\u001b[32m \u001b[0m\u001b[32mThriller, Science Fiction         \u001b[0m\u001b[32m \u001b[0m│\n",
              "│\u001b[36m \u001b[0m\u001b[36mThere is an Alien Here           \u001b[0m\u001b[36m \u001b[0m│\u001b[32m \u001b[0m\u001b[32mScience Fiction, Comedy           \u001b[0m\u001b[32m \u001b[0m│\n",
              "│\u001b[36m \u001b[0m\u001b[36mPlanets Around Us                \u001b[0m\u001b[36m \u001b[0m│\u001b[32m \u001b[0m\u001b[32mScience Fiction                   \u001b[0m\u001b[32m \u001b[0m│\n",
              "│\u001b[36m \u001b[0m\u001b[36mThe 5th Wave                     \u001b[0m\u001b[36m \u001b[0m│\u001b[32m \u001b[0m\u001b[32mScience Fiction, Adventure, Action\u001b[0m\u001b[32m \u001b[0m│\n",
              "│\u001b[36m \u001b[0m\u001b[36mSwiss Made                       \u001b[0m\u001b[36m \u001b[0m│\u001b[32m \u001b[0m\u001b[32mDocumentary, Science Fiction      \u001b[0m\u001b[32m \u001b[0m│\n",
              "│\u001b[36m \u001b[0m\u001b[36mForbidden Sky                    \u001b[0m\u001b[36m \u001b[0m│\u001b[32m \u001b[0m\u001b[32mScience Fiction, Horror           \u001b[0m\u001b[32m \u001b[0m│\n",
              "│\u001b[36m \u001b[0m\u001b[36mAlien Investigations             \u001b[0m\u001b[36m \u001b[0m│\u001b[32m \u001b[0m\u001b[32m                                  \u001b[0m\u001b[32m \u001b[0m│\n",
              "└───────────────────────────────────┴────────────────────────────────────┘\n"
            ],
            "text/html": [
              "<pre style=\"white-space:pre;overflow-x:auto;line-height:normal;font-family:Menlo,'DejaVu Sans Mono',consolas,'Courier New',monospace\"><span style=\"font-style: italic\">         Filmes recomendados com base no filme \"Edge of Tomorrow\"         </span>\n",
              "┏━━━━━━━━━━━━━━━━━━━━━━━━━━━━━━━━━━━┳━━━━━━━━━━━━━━━━━━━━━━━━━━━━━━━━━━━━┓\n",
              "┃<span style=\"font-weight: bold\"> Título                            </span>┃<span style=\"font-weight: bold\"> Gêneros                            </span>┃\n",
              "┡━━━━━━━━━━━━━━━━━━━━━━━━━━━━━━━━━━━╇━━━━━━━━━━━━━━━━━━━━━━━━━━━━━━━━━━━━┩\n",
              "│<span style=\"color: #008080; text-decoration-color: #008080\"> Aliens Night                      </span>│<span style=\"color: #008000; text-decoration-color: #008000\"> Horror, Science Fiction            </span>│\n",
              "│<span style=\"color: #008080; text-decoration-color: #008080\"> Rakka                             </span>│<span style=\"color: #008000; text-decoration-color: #008000\"> Action, Science Fiction, Horror    </span>│\n",
              "│<span style=\"color: #008080; text-decoration-color: #008080\"> Alien Invasion 2                  </span>│<span style=\"color: #008000; text-decoration-color: #008000\"> Comedy                             </span>│\n",
              "│<span style=\"color: #008080; text-decoration-color: #008080\"> H.G. Wells' The War of the Worlds </span>│<span style=\"color: #008000; text-decoration-color: #008000\"> Thriller, Science Fiction          </span>│\n",
              "│<span style=\"color: #008080; text-decoration-color: #008080\"> There is an Alien Here            </span>│<span style=\"color: #008000; text-decoration-color: #008000\"> Science Fiction, Comedy            </span>│\n",
              "│<span style=\"color: #008080; text-decoration-color: #008080\"> Planets Around Us                 </span>│<span style=\"color: #008000; text-decoration-color: #008000\"> Science Fiction                    </span>│\n",
              "│<span style=\"color: #008080; text-decoration-color: #008080\"> The 5th Wave                      </span>│<span style=\"color: #008000; text-decoration-color: #008000\"> Science Fiction, Adventure, Action </span>│\n",
              "│<span style=\"color: #008080; text-decoration-color: #008080\"> Swiss Made                        </span>│<span style=\"color: #008000; text-decoration-color: #008000\"> Documentary, Science Fiction       </span>│\n",
              "│<span style=\"color: #008080; text-decoration-color: #008080\"> Forbidden Sky                     </span>│<span style=\"color: #008000; text-decoration-color: #008000\"> Science Fiction, Horror            </span>│\n",
              "│<span style=\"color: #008080; text-decoration-color: #008080\"> Alien Investigations              </span>│<span style=\"color: #008000; text-decoration-color: #008000\">                                    </span>│\n",
              "└───────────────────────────────────┴────────────────────────────────────┘\n",
              "</pre>\n"
            ]
          },
          "metadata": {}
        }
      ]
    }
  ]
}